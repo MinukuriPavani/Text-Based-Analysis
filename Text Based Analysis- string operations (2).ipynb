{
 "cells": [
  {
   "cell_type": "markdown",
   "id": "c04e85c7",
   "metadata": {},
   "source": [
    "# String-Operations"
   ]
  },
  {
   "cell_type": "raw",
   "id": "d97f366f",
   "metadata": {},
   "source": [
    "Topics\n",
    "• Basic String Operations\n",
    "• String Slicing\n",
    "• Testing, Searching, and Manipulating Strings"
   ]
  },
  {
   "cell_type": "raw",
   "id": "966077ce",
   "metadata": {},
   "source": [
    "Accessing the Individual Characters in a String:\n",
    "- To access an individual character in a string, use indexing.\n",
    "  - Each character has an index specifying its position in the string, starting at 0.\n",
    "  - Format: `character = my_string[i]`\n",
    "\n",
    "String Concatenation:\n",
    "- Concatenation involves appending one string to the end of another string.\n",
    "- Use the `+` operator to produce a string that is a combination of its operands.\n",
    "- The augmented assignment operator `+=` can also be used to concatenate strings.\n",
    "  - The operand on the left side of the `+=` operator must be an existing variable; otherwise, an exception is raised.\n",
    "\n",
    "Strings Are Immutable:\n",
    "- Strings cannot be changed once they are created.\n",
    "\n",
    "String Slicing:\n",
    "- Slice refers to a span of items taken from a sequence, known as a substring.\n",
    "- Slicing format: `string[start : end]`\n",
    "  - The expression will return a string containing a copy of the characters from `start` up to, but not including, `end`.\n",
    "  - If `start` is not specified, 0 is used for the start index.\n",
    "  - If `end` is not specified, `len(string)` is used for the end index.\n",
    "  - Slicing expressions can include a step value and negative indexes relative to the end of the string.\n"
   ]
  },
  {
   "cell_type": "code",
   "execution_count": null,
   "id": "92281485",
   "metadata": {},
   "outputs": [],
   "source": [
    "# In Python, strings are enclosed in either single or double quotation marks.\n",
    "#\"Hello\" and \"'hello' are the same.\n",
    "a='hello'\n",
    "a"
   ]
  },
  {
   "cell_type": "code",
   "execution_count": 3,
   "id": "347751a6",
   "metadata": {},
   "outputs": [
    {
     "name": "stdout",
     "output_type": "stream",
     "text": [
      "llo hello world HELLO WORLD jello world\n"
     ]
    }
   ],
   "source": [
    "#Accessing individual letters\n",
    "b='hello world'\n",
    "print(b[2:5],b.lower(),b.upper(),b.replace('h','j'))"
   ]
  },
  {
   "cell_type": "code",
   "execution_count": 4,
   "id": "46ce8d61",
   "metadata": {},
   "outputs": [
    {
     "data": {
      "text/plain": [
       "'hello world'"
      ]
     },
     "execution_count": 4,
     "metadata": {},
     "output_type": "execute_result"
    }
   ],
   "source": [
    "# concatenating the strings\n",
    "c='world'\n",
    "d=a+' '+c\n",
    "d"
   ]
  },
  {
   "cell_type": "code",
   "execution_count": 8,
   "id": "3ca6129c",
   "metadata": {},
   "outputs": [
    {
     "name": "stdout",
     "output_type": "stream",
     "text": [
      "False PETER\n",
      "False PETER\n",
      "True PETER\n"
     ]
    }
   ],
   "source": [
    "# More string functions\n",
    "A=['Peter','Tree','PETER']\n",
    "for i in A:\n",
    "    print(i.isupper(),end=' ')"
   ]
  },
  {
   "cell_type": "code",
   "execution_count": 15,
   "id": "69cf3cff",
   "metadata": {},
   "outputs": [
    {
     "name": "stdout",
     "output_type": "stream",
     "text": [
      "peter* *peter peter\n"
     ]
    }
   ],
   "source": [
    "p='*peter*'\n",
    "print(p.lstrip('*'),p.rstrip('*'),p.strip('*'))"
   ]
  },
  {
   "cell_type": "code",
   "execution_count": 18,
   "id": "c1a2595e",
   "metadata": {},
   "outputs": [
    {
     "name": "stdout",
     "output_type": "stream",
     "text": [
      "True True\n"
     ]
    }
   ],
   "source": [
    "e='minukuri pavani'\n",
    "print(e.endswith('pavani'),e.startswith('minukuri'))"
   ]
  },
  {
   "cell_type": "code",
   "execution_count": 23,
   "id": "6ad9ab38",
   "metadata": {},
   "outputs": [
    {
     "data": {
      "text/plain": [
       "9"
      ]
     },
     "execution_count": 23,
     "metadata": {},
     "output_type": "execute_result"
    }
   ],
   "source": [
    "e.find('pavani')"
   ]
  },
  {
   "cell_type": "code",
   "execution_count": 20,
   "id": "7af0cb83",
   "metadata": {},
   "outputs": [
    {
     "data": {
      "text/plain": [
       "'minukuri mannu'"
      ]
     },
     "execution_count": 20,
     "metadata": {},
     "output_type": "execute_result"
    }
   ],
   "source": [
    "e.replace('pavani','mannu')"
   ]
  },
  {
   "cell_type": "code",
   "execution_count": 30,
   "id": "6bd7872e",
   "metadata": {},
   "outputs": [
    {
     "name": "stdout",
     "output_type": "stream",
     "text": [
      "['my', 'name', 'is', 'Pavani', 'Minukuri'] ['www', 'example', 'com']\n"
     ]
    }
   ],
   "source": [
    "f='my name is Pavani Minukuri'\n",
    "a='www.example.com'\n",
    "print(f.split(' '), a.split('.'))"
   ]
  },
  {
   "cell_type": "code",
   "execution_count": 5,
   "id": "7a53db2b",
   "metadata": {},
   "outputs": [
    {
     "name": "stdout",
     "output_type": "stream",
     "text": [
      "True\n",
      "False\n",
      "True\n",
      "False\n",
      "True\n",
      "False\n",
      "True\n",
      "False\n"
     ]
    }
   ],
   "source": [
    "string1 = \"Hello123\"\n",
    "string2 = \"Hello 123\" \n",
    "\n",
    "print(string1.isalnum()) \n",
    "print(string2.isalnum())  \n",
    "\n",
    "string1 = \"Hello\"\n",
    "string2 = \"Hello123\" \n",
    "\n",
    "print(string1.isalpha()) \n",
    "print(string2.isalpha())  \n",
    "\n",
    "string1 = \"12345\"\n",
    "string2 = \"123.45\"  \n",
    "\n",
    "print(string1.isdigit()) \n",
    "print(string2.isdigit())  \n",
    "\n",
    "string1 = \"   \"\n",
    "string2 = \"  Hello \" \n",
    "\n",
    "print(string1.isspace())  \n",
    "print(string2.isspace())  \n",
    "\n"
   ]
  },
  {
   "cell_type": "code",
   "execution_count": 6,
   "id": "f2a2bde9",
   "metadata": {},
   "outputs": [
    {
     "name": "stdout",
     "output_type": "stream",
     "text": [
      "['a', 'b', 'c']\n"
     ]
    }
   ],
   "source": [
    "# usage of not in keyword\n",
    "a=['a','b','c']\n",
    "if 'd' not in a:\n",
    "   print(a)"
   ]
  },
  {
   "cell_type": "markdown",
   "id": "7eec720e",
   "metadata": {},
   "source": [
    "# regular expressions"
   ]
  },
  {
   "cell_type": "raw",
   "id": "8e60a58e",
   "metadata": {},
   "source": [
    "*-total of occurances\n",
    ".-single occurances\n",
    "|= or\n",
    "\\s- white space\n",
    "\\d=any digit\n",
    "/D= any non digit\n",
    "/w= any word character\n",
    "/W= any non word character\n",
    "(?:....)= match any thing which is enclosed\n",
    "(....)= capture \n",
    "a?= zero or one of a \n",
    "a* = zero or more of a\n",
    "a+= one or more of a\n",
    "a{3}= exactly three of a\n",
    "a{3,}= 3 or more of a\n",
    "a{3,6} = between 3 and 6 of a\n",
    "^ = start of a string\n",
    "$= end of a string\n",
    "\\b= \n",
    "\n"
   ]
  },
  {
   "cell_type": "code",
   "execution_count": 8,
   "id": "13ca7753",
   "metadata": {},
   "outputs": [],
   "source": [
    "# importing the regular expression library\n",
    "import re"
   ]
  },
  {
   "cell_type": "code",
   "execution_count": 39,
   "id": "937ed827",
   "metadata": {},
   "outputs": [
    {
     "data": {
      "text/plain": [
       "['abc', 'gooey', 'moody', 'roody', 'goofy', 'loopy']"
      ]
     },
     "execution_count": 39,
     "metadata": {},
     "output_type": "execute_result"
    }
   ],
   "source": [
    "# writing a function to find the which has regular expression pattern.\n",
    "def tokenize(text):\n",
    "    return re.findall(r'.oo.y|abc', text)\n",
    "x = tokenize(\" abcd gooey moody broody  goofy gummy  mooooudy  loopy  ooy \")\n",
    "x\n"
   ]
  },
  {
   "cell_type": "code",
   "execution_count": 9,
   "id": "18a0199a",
   "metadata": {},
   "outputs": [
    {
     "name": "stdout",
     "output_type": "stream",
     "text": [
      "Email addresses found:\n",
      "('example.', 'e')\n"
     ]
    }
   ],
   "source": [
    "\n",
    "# Sample text containing email addresses\n",
    "text = \"Please contact john_doe@example.com for inquiries or visit www.example.com for more information.\"\n",
    "\n",
    "# Regular expression pattern to match email addresses\n",
    "pattern = r'[a-zA-Z_\\-]+@(([a-zA-Z_\\-])+\\.)+[a-zA-Z]{2,4}'\n",
    "\n",
    "# Find all email addresses in the text\n",
    "matches = re.findall(pattern, text)\n",
    "\n",
    "# Print the matches\n",
    "print(\"Email addresses found:\")\n",
    "for match in matches:\n",
    "    print(match)\n"
   ]
  },
  {
   "cell_type": "code",
   "execution_count": null,
   "id": "32571fa6",
   "metadata": {},
   "outputs": [],
   "source": []
  }
 ],
 "metadata": {
  "kernelspec": {
   "display_name": "Python 3 (ipykernel)",
   "language": "python",
   "name": "python3"
  },
  "language_info": {
   "codemirror_mode": {
    "name": "ipython",
    "version": 3
   },
   "file_extension": ".py",
   "mimetype": "text/x-python",
   "name": "python",
   "nbconvert_exporter": "python",
   "pygments_lexer": "ipython3",
   "version": "3.11.5"
  }
 },
 "nbformat": 4,
 "nbformat_minor": 5
}
